{
 "cells": [
  {
   "cell_type": "code",
   "execution_count": 3,
   "metadata": {},
   "outputs": [
    {
     "data": {
      "text/html": [
       "<div>\n",
       "<style scoped>\n",
       "    .dataframe tbody tr th:only-of-type {\n",
       "        vertical-align: middle;\n",
       "    }\n",
       "\n",
       "    .dataframe tbody tr th {\n",
       "        vertical-align: top;\n",
       "    }\n",
       "\n",
       "    .dataframe thead th {\n",
       "        text-align: right;\n",
       "    }\n",
       "</style>\n",
       "<table border=\"1\" class=\"dataframe\">\n",
       "  <thead>\n",
       "    <tr style=\"text-align: right;\">\n",
       "      <th>Crime Against Women</th>\n",
       "      <th>1</th>\n",
       "      <th>1, 10</th>\n",
       "      <th>1,10</th>\n",
       "      <th>1,4</th>\n",
       "      <th>1,4,10</th>\n",
       "      <th>10</th>\n",
       "      <th>11</th>\n",
       "      <th>2</th>\n",
       "      <th>2,3</th>\n",
       "      <th>2,3,6</th>\n",
       "      <th>...</th>\n",
       "      <th>7</th>\n",
       "      <th>7, 10</th>\n",
       "      <th>7,10</th>\n",
       "      <th>7,8</th>\n",
       "      <th>7,9</th>\n",
       "      <th>8</th>\n",
       "      <th>8, 10</th>\n",
       "      <th>8,10</th>\n",
       "      <th>8,9</th>\n",
       "      <th>9</th>\n",
       "    </tr>\n",
       "  </thead>\n",
       "  <tbody>\n",
       "    <tr>\n",
       "      <th>Title</th>\n",
       "      <td>11</td>\n",
       "      <td>3</td>\n",
       "      <td>3</td>\n",
       "      <td>1</td>\n",
       "      <td>1</td>\n",
       "      <td>5</td>\n",
       "      <td>3</td>\n",
       "      <td>11</td>\n",
       "      <td>1</td>\n",
       "      <td>4</td>\n",
       "      <td>...</td>\n",
       "      <td>20</td>\n",
       "      <td>8</td>\n",
       "      <td>18</td>\n",
       "      <td>2</td>\n",
       "      <td>2</td>\n",
       "      <td>45</td>\n",
       "      <td>7</td>\n",
       "      <td>2</td>\n",
       "      <td>1</td>\n",
       "      <td>7</td>\n",
       "    </tr>\n",
       "  </tbody>\n",
       "</table>\n",
       "<p>1 rows × 33 columns</p>\n",
       "</div>"
      ],
      "text/plain": [
       "Crime Against Women   1  1, 10  1,10  1,4  1,4,10  10  11   2  2,3  2,3,6  \\\n",
       "Title                11      3     3    1       1   5   3  11    1      4   \n",
       "\n",
       "Crime Against Women  ...   7  7, 10  7,10  7,8  7,9   8  8, 10  8,10  8,9  9  \n",
       "Title                ...  20      8    18    2    2  45      7     2    1  7  \n",
       "\n",
       "[1 rows x 33 columns]"
      ]
     },
     "execution_count": 3,
     "metadata": {},
     "output_type": "execute_result"
    }
   ],
   "source": [
    "import pandas as pd \n",
    "ds=pd.read_csv('../inputdata/crimedb.csv')\n",
    "ds.head\n",
    "#classic example of pivot\n",
    "pd.pivot_table(ds, columns ='Crime Against Women', values =\"Title\"  , aggfunc='count')\n"
   ]
  },
  {
   "cell_type": "code",
   "execution_count": 5,
   "metadata": {},
   "outputs": [
    {
     "ename": "SyntaxError",
     "evalue": "EOL while scanning string literal (1591596584.py, line 1)",
     "output_type": "error",
     "traceback": [
      "\u001b[0;36m  Cell \u001b[0;32mIn[5], line 1\u001b[0;36m\u001b[0m\n\u001b[0;31m    str='\"1:Property/Land Disputes,\u001b[0m\n\u001b[0m                                   ^\u001b[0m\n\u001b[0;31mSyntaxError\u001b[0m\u001b[0;31m:\u001b[0m EOL while scanning string literal\n"
     ]
    }
   ],
   "source": []
  }
 ],
 "metadata": {
  "kernelspec": {
   "display_name": "Python 3",
   "language": "python",
   "name": "python3"
  },
  "language_info": {
   "codemirror_mode": {
    "name": "ipython",
    "version": 3
   },
   "file_extension": ".py",
   "mimetype": "text/x-python",
   "name": "python",
   "nbconvert_exporter": "python",
   "pygments_lexer": "ipython3",
   "version": "3.9.6"
  }
 },
 "nbformat": 4,
 "nbformat_minor": 2
}
