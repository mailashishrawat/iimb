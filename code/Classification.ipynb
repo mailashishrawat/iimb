{
 "cells": [
  {
   "cell_type": "code",
   "execution_count": null,
   "metadata": {},
   "outputs": [],
   "source": [
    "# gini index calcuation \n",
    "#G=summation of P(j/k)*(1-P(j/k))\n",
    "\n",
    "from sklearn.tree import DecisionTreeClassifier\n",
    "from sklearn.datasets import load_iris\n",
    "\n",
    "# Load example dataset (Iris dataset)\n",
    "iris = load_iris()\n",
    "X = iris.data\n",
    "y = iris.target\n",
    "\n",
    "# Initialize DecisionTreeClassifier\n",
    "clf = DecisionTreeClassifier()\n",
    "\n",
    "# Fit the classifier to the data\n",
    "clf.fit(X, y)\n",
    "\n",
    "# Calculate Gini impurity\n",
    "gini_impurity = clf.tree_.impurity[0]\n",
    "print(\"Gini impurity:\", gini_impurity)\n",
    "\n"
   ]
  },
  {
   "cell_type": "code",
   "execution_count": 16,
   "metadata": {},
   "outputs": [
    {
     "name": "stdout",
     "output_type": "stream",
     "text": [
      "0.4212669438\n",
      "0.0\n",
      "0.4954646712\n",
      "0.09095551145109604\n"
     ]
    }
   ],
   "source": [
    "#gini index for 2 item \n",
    "\n",
    "#0.4212648022171831\n",
    "# 0.0\n",
    "# 0.4954648526077098\n",
    "# 0.07420005039052668\n",
    "# 0.06802138658249718\n",
    "k=.30159\n",
    "j=.69841\n",
    "\n",
    "gini0=2*j*k \n",
    "print(gini0)\n",
    "\n",
    "k2=21/21\n",
    "j2=1-k2\n",
    "p2=.3333\n",
    "\n",
    "gini2=2*j2*k2 \n",
    "print(gini2)\n",
    "\n",
    "k3=.45238\n",
    "j3=1-k3\n",
    "p3=.66667\n",
    "\n",
    "\n",
    "gini3=2*j3*k3\n",
    "print(gini3)\n",
    "\n",
    "\n",
    "\n",
    "# differnece in gini coefficient \n",
    "ginidiff= gini0-gini2*p2-gini3*p3\n",
    "print(ginidiff)"
   ]
  },
  {
   "cell_type": "code",
   "execution_count": 10,
   "metadata": {},
   "outputs": [
    {
     "name": "stdout",
     "output_type": "stream",
     "text": [
      "Entropy: 0.8832258279230543\n"
     ]
    }
   ],
   "source": [
    "# entropy calculation \n",
    "from scipy.stats import entropy\n",
    "\n",
    "# Define probabilities of events (as a list or array)\n",
    "probabilities = [0.30159,0.69841]\n",
    "\n",
    "# Calculate entropy\n",
    "entropy_value = entropy(probabilities, base=2)  # base=2 for binary entropy\n",
    "print(\"Entropy:\", entropy_value)"
   ]
  }
 ],
 "metadata": {
  "kernelspec": {
   "display_name": "Python 3",
   "language": "python",
   "name": "python3"
  },
  "language_info": {
   "codemirror_mode": {
    "name": "ipython",
    "version": 3
   },
   "file_extension": ".py",
   "mimetype": "text/x-python",
   "name": "python",
   "nbconvert_exporter": "python",
   "pygments_lexer": "ipython3",
   "version": "3.11.7"
  }
 },
 "nbformat": 4,
 "nbformat_minor": 2
}
