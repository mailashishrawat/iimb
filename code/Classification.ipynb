{
 "cells": [
  {
   "cell_type": "code",
   "execution_count": null,
   "metadata": {},
   "outputs": [],
   "source": [
    "# gini index calcuation \n",
    "#G=summation of P(j/k)*(1-P(j/k))\n",
    "\n",
    "from sklearn.tree import DecisionTreeClassifier\n",
    "from sklearn.datasets import load_iris\n",
    "\n",
    "# Load example dataset (Iris dataset)\n",
    "iris = load_iris()\n",
    "X = iris.data\n",
    "y = iris.target\n",
    "\n",
    "# Initialize DecisionTreeClassifier\n",
    "clf = DecisionTreeClassifier()\n",
    "\n",
    "# Fit the classifier to the data\n",
    "clf.fit(X, y)\n",
    "\n",
    "# Calculate Gini impurity\n",
    "gini_impurity = clf.tree_.impurity[0]\n",
    "print(\"Gini impurity:\", gini_impurity)\n",
    "\n"
   ]
  },
  {
   "cell_type": "code",
   "execution_count": 16,
   "metadata": {},
   "outputs": [
    {
     "name": "stdout",
     "output_type": "stream",
     "text": [
      "0.4212669438\n",
      "0.0\n",
      "0.4954646712\n",
      "0.09095551145109604\n"
     ]
    }
   ],
   "source": [
    "#gini index for 2 item \n",
    "\n",
    "#0.4212648022171831\n",
    "# 0.0\n",
    "# 0.4954648526077098\n",
    "# 0.07420005039052668\n",
    "# 0.06802138658249718\n",
    "k=.30159\n",
    "j=.69841\n",
    "\n",
    "gini0=2*j*k \n",
    "print(gini0)\n",
    "\n",
    "k2=21/21\n",
    "j2=1-k2\n",
    "p2=.3333\n",
    "\n",
    "gini2=2*j2*k2 \n",
    "print(gini2)\n",
    "\n",
    "k3=.45238\n",
    "j3=1-k3\n",
    "p3=.66667\n",
    "\n",
    "\n",
    "gini3=2*j3*k3\n",
    "print(gini3)\n",
    "\n",
    "\n",
    "\n",
    "# differnece in gini coefficient \n",
    "ginidiff= gini0-gini2*p2-gini3*p3\n",
    "print(ginidiff)"
   ]
  },
  {
   "cell_type": "code",
   "execution_count": 10,
   "metadata": {},
   "outputs": [
    {
     "name": "stdout",
     "output_type": "stream",
     "text": [
      "Entropy: 0.8832258279230543\n"
     ]
    }
   ],
   "source": [
    "# entropy calculation \n",
    "from scipy.stats import entropy\n",
    "\n",
    "# Define probabilities of events (as a list or array)\n",
    "probabilities = [0.30159,0.69841]\n",
    "\n",
    "# Calculate entropy\n",
    "entropy_value = entropy(probabilities, base=2)  # base=2 for binary entropy\n",
    "print(\"Entropy:\", entropy_value)"
   ]
  },
  {
   "cell_type": "code",
   "execution_count": 43,
   "metadata": {},
   "outputs": [
    {
     "name": "stdout",
     "output_type": "stream",
     "text": [
      "creditsdf:\n",
      "     duration  amount  inst_rate  residing_since  age  num_credits  \\\n",
      "0           6    1169          4               4   67            2   \n",
      "1          48    5951          2               2   22            1   \n",
      "2          12    2096          2               3   49            1   \n",
      "3          42    7882          2               4   45            1   \n",
      "4          24    4870          3               4   53            2   \n",
      "..        ...     ...        ...             ...  ...          ...   \n",
      "995        12    1736          3               4   31            1   \n",
      "996        30    3857          4               4   40            1   \n",
      "997        12     804          4               4   38            1   \n",
      "998        45    1845          4               4   23            1   \n",
      "999        45    4576          3               4   27            1   \n",
      "\n",
      "     checkin_acc_A12  checkin_acc_A13  checkin_acc_A14  credit_history_A31  \\\n",
      "0              False            False            False               False   \n",
      "1               True            False            False               False   \n",
      "2              False            False             True               False   \n",
      "3              False            False            False               False   \n",
      "4              False            False            False               False   \n",
      "..               ...              ...              ...                 ...   \n",
      "995            False            False             True               False   \n",
      "996            False            False            False               False   \n",
      "997            False            False             True               False   \n",
      "998            False            False            False               False   \n",
      "999             True            False            False               False   \n",
      "\n",
      "     ...  present_emp_since_A74  present_emp_since_A75  personal_status_A92  \\\n",
      "0    ...                  False                   True                False   \n",
      "1    ...                  False                  False                 True   \n",
      "2    ...                   True                  False                False   \n",
      "3    ...                   True                  False                False   \n",
      "4    ...                  False                  False                False   \n",
      "..   ...                    ...                    ...                  ...   \n",
      "995  ...                   True                  False                 True   \n",
      "996  ...                  False                  False                False   \n",
      "997  ...                  False                   True                False   \n",
      "998  ...                  False                  False                False   \n",
      "999  ...                  False                  False                False   \n",
      "\n",
      "     personal_status_A93  personal_status_A94  inst_plans_A142  \\\n",
      "0                   True                False            False   \n",
      "1                  False                False            False   \n",
      "2                   True                False            False   \n",
      "3                   True                False            False   \n",
      "4                   True                False            False   \n",
      "..                   ...                  ...              ...   \n",
      "995                False                False            False   \n",
      "996                False                False            False   \n",
      "997                 True                False            False   \n",
      "998                 True                False            False   \n",
      "999                 True                False            False   \n",
      "\n",
      "     inst_plans_A143  job_A172  job_A173  job_A174  \n",
      "0               True     False      True     False  \n",
      "1               True     False      True     False  \n",
      "2               True      True     False     False  \n",
      "3               True     False      True     False  \n",
      "4               True     False      True     False  \n",
      "..               ...       ...       ...       ...  \n",
      "995             True      True     False     False  \n",
      "996             True     False     False      True  \n",
      "997             True     False      True     False  \n",
      "998             True     False      True     False  \n",
      "999             True     False      True     False  \n",
      "\n",
      "[1000 rows x 29 columns]\n"
     ]
    }
   ],
   "source": [
    "# Classification problems are an important category of problems in analytics in which the outcome variable or response variable (Y) takes discrete values. The primary objective of a classification model is to predict the probability of an observation belonging to a class, known as class probability. \n",
    "\n",
    "# Classification problems may have binary or multiple outcomes or classes. Binary outcomes are called binary classification and multiple outcomes are called multinomial classification. There are several techniques used for solving classification problems such as logistic regression, classification trees, discriminant analysis, neural networks, and support vector machines.\n",
    "\n",
    "# Binary Logistic Regression: \n",
    "\n",
    "# Logistic regression is a statistical model in which the response variable takes a discrete value and the explanatory variables can either be continuous or discrete. If the outcome variable takes only two values, then the model is called the binary logistic regression model.\n",
    "\n",
    "# The logistic function has an S-shaped curve (thus also known as the Sigmoid function\n",
    "\n",
    "import pandas as pd \n",
    "df=pd.read_csv(\"../inputdata/German_Credit_Data.csv\")\n",
    "#df.info()\n",
    "\n",
    "xfeature=list(df.columns)\n",
    "xfeature.remove(\"status\")\n",
    "# print(\"printing xfeatures\")\n",
    "# print(xfeature)\n",
    "creditsdf= pd.get_dummies(df[xfeature],drop_first=True)\n",
    "print(\"creditsdf:\")\n",
    "print(creditsdf)\n",
    "# dfbank=pd.read_csv(\"../inputdata/bank.csv\")\n",
    "# dfbank.head(5)\n",
    "\n",
    "\n"
   ]
  },
  {
   "cell_type": "code",
   "execution_count": 53,
   "metadata": {},
   "outputs": [],
   "source": [
    "import statsmodels.api as sm\n",
    "import numpy as np\n",
    "Y =df.status\n",
    "X=sm.add_constant(creditsdf)\n",
    "from sklearn.model_selection import train_test_split\n",
    "X_train, X_test, Y_train, Y_test = train_test_split(X,Y,test_size=.3,random_state=42)\n",
    "\n",
    "\n"
   ]
  },
  {
   "cell_type": "code",
   "execution_count": 61,
   "metadata": {},
   "outputs": [
    {
     "ename": "TypeError",
     "evalue": "type 'Series' is not subscriptable",
     "output_type": "error",
     "traceback": [
      "\u001b[0;31m---------------------------------------------------------------------------\u001b[0m",
      "\u001b[0;31mTypeError\u001b[0m                                 Traceback (most recent call last)",
      "Cell \u001b[0;32mIn[61], line 1\u001b[0m\n\u001b[0;32m----> 1\u001b[0m pd\u001b[38;5;241m.\u001b[39mSeries[X_train]\n",
      "\u001b[0;31mTypeError\u001b[0m: type 'Series' is not subscriptable"
     ]
    }
   ],
   "source": [
    "pd.Series[X_train]\n",
    "#logit_model=sm.Logit(Y_train,X_train,check_rank=False).fit()\n"
   ]
  }
 ],
 "metadata": {
  "kernelspec": {
   "display_name": "Python 3",
   "language": "python",
   "name": "python3"
  },
  "language_info": {
   "codemirror_mode": {
    "name": "ipython",
    "version": 3
   },
   "file_extension": ".py",
   "mimetype": "text/x-python",
   "name": "python",
   "nbconvert_exporter": "python",
   "pygments_lexer": "ipython3",
   "version": "3.11.7"
  }
 },
 "nbformat": 4,
 "nbformat_minor": 2
}
