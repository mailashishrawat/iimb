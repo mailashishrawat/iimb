{
 "cells": [
  {
   "cell_type": "code",
   "execution_count": 3,
   "metadata": {},
   "outputs": [
    {
     "name": "stdout",
     "output_type": "stream",
     "text": [
      "Senstivity is \n",
      "0.8244274809160306\n",
      "Specificity is \n",
      "0.23180076628352492\n"
     ]
    }
   ],
   "source": [
    "TN=242\n",
    "FP=802\n",
    "FN=437\n",
    "TP=2052\n",
    "\n",
    "\n",
    "#Senstivity  true positve rate\n",
    "Senstivity =TP/(TP+FN)\n",
    "print(\"Senstivity is \" )\n",
    "print( Senstivity)\n",
    "#Specificity( false positve rate ) \n",
    "Specificity = TN/(TN+FP)\n",
    "print (\"Specificity is \" )\n",
    "print ( Specificity)"
   ]
  },
  {
   "cell_type": "code",
   "execution_count": 6,
   "metadata": {},
   "outputs": [
    {
     "name": "stdout",
     "output_type": "stream",
     "text": [
      "4028098.0\n",
      "1.087931748431076\n"
     ]
    }
   ],
   "source": [
    "val1=3002666\n",
    "val2=4447581\n",
    "val3=4634047\n",
    "\n",
    "avg=(val1+val2+val3)/3\n",
    "avgall=3702528.22\n",
    "print(avg)\n",
    "sindex=avg/avgall\n",
    "print(sindex)"
   ]
  },
  {
   "cell_type": "code",
   "execution_count": 16,
   "metadata": {},
   "outputs": [
    {
     "name": "stdout",
     "output_type": "stream",
     "text": [
      "25.48941\n"
     ]
    }
   ],
   "source": [
    "Yi=25\n",
    "Bconst=29.490\n",
    "B1=.891\n",
    "d=Yi-Bconst\n",
    "Yt=B1*(Yi-Bconst)+Bconst\n",
    "\n",
    "print(Yt)\n",
    "\n",
    "\n",
    "seasonality =1.171953255\n",
    "print (Yt*seasonality)\n"
   ]
  },
  {
   "cell_type": "code",
   "execution_count": 20,
   "metadata": {},
   "outputs": [
    {
     "name": "stdout",
     "output_type": "stream",
     "text": [
      "0.42250000000000004\n"
     ]
    }
   ],
   "source": [
    "R=.650\n",
    "print(R*R)"
   ]
  },
  {
   "cell_type": "code",
   "execution_count": 15,
   "metadata": {},
   "outputs": [
    {
     "name": "stdout",
     "output_type": "stream",
     "text": [
      "96.027486\n",
      "112.53972478716693\n",
      "138.14612499999998\n"
     ]
    }
   ],
   "source": [
    "Yi=100\n",
    "Bconst=75.326\n",
    "B1=.839\n",
    "d=Yi-Bconst\n",
    "Yt=B1*d+Bconst\n",
    "Avg=74.875\n",
    "print(Yt)\n",
    "\n",
    "Fdt=Bconst+B1*Avg\n",
    "seasonality =1.171953255\n",
    "print (Yt*seasonality)\n",
    "print (Fdt)"
   ]
  }
 ],
 "metadata": {
  "kernelspec": {
   "display_name": "Python 3",
   "language": "python",
   "name": "python3"
  },
  "language_info": {
   "codemirror_mode": {
    "name": "ipython",
    "version": 3
   },
   "file_extension": ".py",
   "mimetype": "text/x-python",
   "name": "python",
   "nbconvert_exporter": "python",
   "pygments_lexer": "ipython3",
   "version": "3.9.6"
  }
 },
 "nbformat": 4,
 "nbformat_minor": 2
}
