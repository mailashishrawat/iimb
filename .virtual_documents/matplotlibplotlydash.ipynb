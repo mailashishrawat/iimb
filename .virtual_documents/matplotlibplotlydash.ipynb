import pandas as pd 
#diab = pd.read_excel('./global_superstore_2016.xlsx')
diab=pd.read_csv('./diabetes.csv')
diab.head


import matplotlib.pyplot as mp

#mp.scatter(diab['Segment'],diab['Customer ID'])
mp.scatter(diab['Age'],diab['Pregnancies'])


import plotly.express as px

df = px.data.iris()
#fig = px.scatter(df, x="sepal_width", y="sepal_length", color="species", title="A Plotly Express Figure")
fig=px.scatter(diab,x="Age", y="Pregnancies")
# If you print the figure, you'll see that it's just a regular figure with data and layout
# print(fig)

fig.show()


import plotly as plotly
plotly.offline.plot(fig,filename="./out/diabgraoh.html")


from dash import Dash, html



app = Dash(__name__,serve_locally=False)

app.layout = html.Div([
    html.Div(children='Hello ashish')
])

if __name__ == '__main__':
    app.run(debug=True)




